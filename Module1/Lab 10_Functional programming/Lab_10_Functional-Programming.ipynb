{
 "cells": [
  {
   "cell_type": "markdown",
   "metadata": {},
   "source": [
    "onsider an array/list of sheep where some sheep may be missing from their place. We need a function that counts the number of sheep present in the array (true means present).\n",
    "\n",
    "For example,\n",
    "\n",
    "[true,  true,  true,  false,\n",
    "  true,  true,  true,  true ,\n",
    "  true,  false, true,  false,\n",
    "  true,  false, false, true ,\n",
    "  true,  true,  true,  true ,\n",
    "  false, false, true,  true]\n"
   ]
  },
  {
   "cell_type": "code",
   "execution_count": 6,
   "metadata": {},
   "outputs": [
    {
     "data": {
      "text/plain": [
       "17"
      ]
     },
     "execution_count": 6,
     "metadata": {},
     "output_type": "execute_result"
    }
   ],
   "source": [
    "lst = [True,  True,  True,  False, True,  True,  True,  True , True,  False, True,  False, True,  False, False, True ,\n",
    "True,  True,  True,  True , False, False, True,  True]\n",
    "def sheep_counter (lst):\n",
    "    n = 0\n",
    "    for i in lst:\n",
    "        if i == True:\n",
    "            n+=1\n",
    "    return n\n",
    "\n",
    "sheep_counter(lst)       \n"
   ]
  },
  {
   "cell_type": "markdown",
   "metadata": {},
   "source": [
    "Take an array and remove every second element from the array. Always keep the first element and start removing with the next element.\n",
    "\n",
    "Example:\n",
    "\n",
    "[\"Keep\", \"Remove\", \"Keep\", \"Remove\", \"Keep\", ...] --> [\"Keep\", \"Keep\", \"Keep\", ...]\n"
   ]
  },
  {
   "cell_type": "code",
   "execution_count": 7,
   "metadata": {},
   "outputs": [
    {
     "data": {
      "text/plain": [
       "['Keep', 'Keep', 'Keep']"
      ]
     },
     "execution_count": 7,
     "metadata": {},
     "output_type": "execute_result"
    }
   ],
   "source": [
    "lst = [\"Keep\", \"Remove\", \"Keep\", \"Remove\", \"Keep\", ...]\n",
    "def remove_every_second(lst):\n",
    "    return lst[::2]\n",
    "remove_every_second(lst)"
   ]
  },
  {
   "cell_type": "markdown",
   "metadata": {},
   "source": [
    "Convert number to reversed array of digits\n",
    "\n",
    "Given a random non-negative number, you have to return the digits of this number within an array in reverse order.\n",
    "348597 => [7,9,5,8,4,3]\n",
    "0 => [0]"
   ]
  },
  {
   "cell_type": "code",
   "execution_count": 8,
   "metadata": {},
   "outputs": [
    {
     "name": "stdout",
     "output_type": "stream",
     "text": [
      "[7, 9, 5, 8, 4, 3]\n"
     ]
    }
   ],
   "source": [
    "def convert(n):\n",
    "    # convert to string\n",
    "    st =str(n)\n",
    "    \n",
    "    result = []\n",
    "    # loop on string\n",
    "    for i in st:\n",
    "        result.append(i)\n",
    "    \n",
    "    # reverse the list\n",
    "    result.reverse()\n",
    "    return result\n",
    "\n",
    "convert(348597)\n",
    "\n",
    "result = ['7', '9', '5', '8', '4', '3'] \n",
    "# convert strings to integers\n",
    "result = list(map(int, result))\n",
    "print(result)"
   ]
  },
  {
   "cell_type": "markdown",
   "metadata": {},
   "source": [
    "Welcome. In this kata, you are asked to square every digit of a number and concatenate them.\n",
    "\n",
    "For example, if we run 9119 through the function, 811181 will come out, because 92 is 81 and 12 is 1.\n",
    "\n",
    "Note: The function accepts an integer and returns an integer\n"
   ]
  },
  {
   "cell_type": "code",
   "execution_count": 13,
   "metadata": {},
   "outputs": [
    {
     "name": "stdout",
     "output_type": "stream",
     "text": [
      "Enter the number :9119\n",
      "811181"
     ]
    }
   ],
   "source": [
    "number=str(input(\"Enter the number :\"))\n",
    "\n",
    "def square_digits(number):\n",
    "\n",
    "      digits = list(number)\n",
    "\n",
    "      for i in digits:\n",
    "\n",
    "          print(int(i)**2,end=\"\")\n",
    "\n",
    "square_digits(number)\n",
    "\n"
   ]
  },
  {
   "cell_type": "markdown",
   "metadata": {},
   "source": [
    "We need a method in the List Class that may count specific digits from a given list of integers. This marked digits will be given in a second list. The method .count_spec_digits()/.countSpecDigits() will accept two arguments, a list of an uncertain amount of integers integers_lists/integersLists (and of an uncertain amount of digits, too) and a second list, digits_list/digitsList that has the specific digits to count which length cannot be be longer than 10 (It's obvious, we've got ten digits). The method will output a list of tuples, each tuple having two elements, the first one will be a digit to count, and second one, its corresponding total frequency in all the integers of the first list. This list of tuples should be ordered with the same order that the digits have in digitsList\n",
    "\n",
    "Let's see some cases:\n",
    "l = List()\n",
    "\n",
    "integers_list =  [1, 1, 2 ,3 ,1 ,2 ,3 ,4]\n",
    "digits_list = [1, 3]\n",
    "l.count_spec_digits(integers_list, digits_list) == [(1, 3), (3, 2)]\n",
    "\n",
    "integers_list = [-18, -31, 81, -19, 111, -888]\n",
    "digits_list = [1, 8, 4]\n",
    "l.count_spec_digits(integers_list, digits_list) == [(1, 7), (8, 5), (4, 0)]\n",
    "\n",
    "integers_list = [-77, -65, 56, -79, 6666, 222]\n",
    "digits_list = [1, 8, 4]\n",
    "l.count_spec_digits(integers_list, digits_list) == [(1, 0), (8, 0), (4, 0)]\n",
    "\n",
    "Enjoy it!!"
   ]
  },
  {
   "cell_type": "code",
   "execution_count": 28,
   "metadata": {},
   "outputs": [
    {
     "name": "stdout",
     "output_type": "stream",
     "text": [
      "1\n",
      "3\n",
      "[2, 0]\n"
     ]
    },
    {
     "data": {
      "text/plain": [
       "[(1, 2), (3, 0)]"
      ]
     },
     "execution_count": 28,
     "metadata": {},
     "output_type": "execute_result"
    }
   ],
   "source": [
    "inte_list = [1, 5, 7, 7, 9, 9, 1, 4]\n",
    "dig_list = [1, 3]\n",
    "\n",
    "def cd (inte_list, dig_list):\n",
    "    fr_r=[]\n",
    "    final=[]\n",
    "    l=[]\n",
    "    for i in dig_list:\n",
    "        print(i)\n",
    "        fr_r.append(inte_list.count(i))  \n",
    "    print(fr_r)\n",
    "    for j in range(len(dig_list)):\n",
    "        final.append(dig_list[j])\n",
    "        final.append(fr_r[j])\n",
    "        final=tuple(final)\n",
    "        l.append(final)\n",
    "        final=[]\n",
    "  \n",
    "    return l\n",
    "cd(inte_list, dig_list)\n"
   ]
  }
 ],
 "metadata": {
  "kernelspec": {
   "display_name": "Python 3",
   "language": "python",
   "name": "python3"
  },
  "language_info": {
   "codemirror_mode": {
    "name": "ipython",
    "version": 3
   },
   "file_extension": ".py",
   "mimetype": "text/x-python",
   "name": "python",
   "nbconvert_exporter": "python",
   "pygments_lexer": "ipython3",
   "version": "3.8.5"
  }
 },
 "nbformat": 4,
 "nbformat_minor": 4
}
