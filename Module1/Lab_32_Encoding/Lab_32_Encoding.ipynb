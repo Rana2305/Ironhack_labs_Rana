{
 "cells": [
  {
   "cell_type": "markdown",
   "metadata": {},
   "source": [
    "Part 1: Python Create the dataframe that reflects the following table:\n",
    "\n",
    "TransactionID | ClientID | Profession | Bank_dep | Risk | Number of credits | Revenue\n",
    "\n",
    "1| 231 | Self-employed | 009 | High | 2 | 30200\n",
    "\n",
    "2| 765 | students | 005 | high | 3 |12700\n",
    "\n",
    "3| 453 | Horeca | 007 | medium |5 |89400\n",
    "\n",
    "4| 231 | self-employed | 009 | high | 2 | 30200\n",
    "\n",
    "5| 892 | finance | 003 | low | 3 | 740000"
   ]
  },
  {
   "cell_type": "code",
   "execution_count": 1,
   "metadata": {},
   "outputs": [
    {
     "name": "stdout",
     "output_type": "stream",
     "text": [
      "   TransactionID     Profession Bank_dep  Number_of_credits  Revenue\n",
      "0              1  Self-employed      009                  2    30200\n",
      "1              2       students      005                  3    12700\n",
      "2              3         Horeca      007                  5    89400\n",
      "3              4  self-employed      009                  2    30200\n",
      "4              5        finance      003                  3   740000\n"
     ]
    }
   ],
   "source": [
    "import pandas as pd\n",
    "import numpy as np\n",
    "TransactionID = [1, 2, 3, 4, 5]\n",
    "ClientID = [231, 765, 453, 231, 892]\n",
    "Profession = ['Self-employed', 'students', 'Horeca', 'self-employed', 'finance']\n",
    "Bank_dep = ['009', '005', '007', '009', '003']\n",
    "Risk = ['High', 'high', 'medium', 'high', 'low']\n",
    "Number_of_credits = [2, 3, 5, 2, 3]\n",
    "Revenue = [30200, 12700, 89400, 30200, 740000]\n",
    "dictionary = {'TransactionID': [1, 2, 3, 4, 5], 'Profession': ['Self-employed', 'students', 'Horeca', 'self-employed', 'finance'],\n",
    "              'Bank_dep': ['009', '005', '007', '009', '003'], 'Number_of_credits' : [2, 3, 5, 2, 3], 'Revenue':\n",
    "              [30200, 12700, 89400, 30200, 740000]}\n",
    "df = pd.DataFrame(dictionary)\n",
    "print(df)"
   ]
  },
  {
   "cell_type": "code",
   "execution_count": null,
   "metadata": {},
   "outputs": [],
   "source": []
  }
 ],
 "metadata": {
  "kernelspec": {
   "display_name": "Python 3",
   "language": "python",
   "name": "python3"
  },
  "language_info": {
   "codemirror_mode": {
    "name": "ipython",
    "version": 3
   },
   "file_extension": ".py",
   "mimetype": "text/x-python",
   "name": "python",
   "nbconvert_exporter": "python",
   "pygments_lexer": "ipython3",
   "version": "3.8.5"
  }
 },
 "nbformat": 4,
 "nbformat_minor": 4
}
