{
 "cells": [
  {
   "cell_type": "code",
   "execution_count": 2,
   "metadata": {},
   "outputs": [
    {
     "name": "stdout",
     "output_type": "stream",
     "text": [
      "Enter minimum string length: 3\n",
      "Enter maximum string length: 1\n",
      "Error, incorrect input\n"
     ]
    },
    {
     "ename": "SystemExit",
     "evalue": "",
     "output_type": "error",
     "traceback": [
      "An exception has occurred, use %tb to see the full traceback.\n",
      "\u001b[1;31mSystemExit\u001b[0m\n"
     ]
    },
    {
     "name": "stderr",
     "output_type": "stream",
     "text": [
      "C:\\Users\\rana_\\anaconda3\\lib\\site-packages\\IPython\\core\\interactiveshell.py:3426: UserWarning: To exit: use 'exit', 'quit', or Ctrl-D.\n",
      "  warn(\"To exit: use 'exit', 'quit', or Ctrl-D.\", stacklevel=1)\n"
     ]
    }
   ],
   "source": [
    "import string\n",
    "import random\n",
    "import sys\n",
    "\n",
    "\n",
    "#length will be the longer of the string\n",
    "def randomstr (a,b):\n",
    "    a=int(a)\n",
    "    b=int(b)\n",
    "    if a < b:\n",
    "        length = random.choice(range(a, b))\n",
    "    elif a == b:\n",
    "        length = a\n",
    "    randomstrg = ''.join(random.choices(string.ascii_letters+string.digits,k=length))\n",
    "    return randomstrg\n",
    "\n",
    "a =input('Enter minimum string length: ')\n",
    "b = input('Enter maximum string length: ')\n",
    "if a.isdigit()==False or b.isdigit()==False or int(a)>int(b) :\n",
    "    print('Error, incorrect input') \n",
    "    sys.exit () # error mentioned\n",
    "else:\n",
    "    n = int(input('How many random strings to generate? '))\n",
    "    liststr=[]\n",
    "    for x in range (n):\n",
    "        liststr.append(randomstr(a,b))\n",
    "    print (liststr)"
   ]
  },
  {
   "cell_type": "code",
   "execution_count": null,
   "metadata": {},
   "outputs": [],
   "source": []
  }
 ],
 "metadata": {
  "kernelspec": {
   "display_name": "Python 3",
   "language": "python",
   "name": "python3"
  },
  "language_info": {
   "codemirror_mode": {
    "name": "ipython",
    "version": 3
   },
   "file_extension": ".py",
   "mimetype": "text/x-python",
   "name": "python",
   "nbconvert_exporter": "python",
   "pygments_lexer": "ipython3",
   "version": "3.8.5"
  }
 },
 "nbformat": 4,
 "nbformat_minor": 4
}
